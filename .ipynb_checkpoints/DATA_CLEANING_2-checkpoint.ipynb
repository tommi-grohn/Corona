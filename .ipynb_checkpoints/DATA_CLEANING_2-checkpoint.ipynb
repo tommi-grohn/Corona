{
 "cells": [
  {
   "cell_type": "markdown",
   "metadata": {},
   "source": [
    "# Cleaning Väylä's traffic data into a dataframe and plotting a few time series of relevant measure points"
   ]
  },
  {
   "cell_type": "markdown",
   "metadata": {},
   "source": [
    "## 1. A brief introduction"
   ]
  },
  {
   "cell_type": "markdown",
   "metadata": {},
   "source": [
    "### Important notions\n",
    "\n",
    "\n",
    "- In this notebook the total traffic during one day of all the measure points of automatic traffic monitoring system (TMS, also referred as LAM) is collected\n",
    "    - There are some features in the data which will be not taken advantage of \n",
    "        1. The data is hourly based but we add all 24 hours together for each day\n",
    "        2. There is information of different vehicles, e.g. how many cars, buses drove past in an hour\n",
    "\n",
    "\n",
    "- A good overview where these measure points are located can be found: https://www.arcgis.com/home/webmap/viewer.html?webmap=10d97c7d9d9b41c180e6eb7e26f75be7 \n",
    "\n",
    "\n",
    "- The cleaned data is added to a dataframe which is exported"
   ]
  },
  {
   "cell_type": "markdown",
   "metadata": {},
   "source": [
    "### Adding libraries"
   ]
  },
  {
   "cell_type": "code",
   "execution_count": 1,
   "metadata": {},
   "outputs": [],
   "source": [
    "import numpy as np\n",
    "import pandas as pd\n",
    "import datetime\n",
    "import os\n",
    "import matplotlib.pyplot as plt"
   ]
  },
  {
   "cell_type": "markdown",
   "metadata": {},
   "source": [
    "### Manually controlled parameters"
   ]
  },
  {
   "cell_type": "code",
   "execution_count": 2,
   "metadata": {},
   "outputs": [],
   "source": [
    "# These lists define which folders are read\n",
    "directories = ['Vayla_February', 'Vayla_March', 'Vayla_April','Vayla_May', 'Vayla_June', 'Vayla_July']\n",
    "corresponding_month = [2,3,4,5,6,7]\n",
    "\n",
    "# These regions will be plotted\n",
    "measure_points_plotted = [118, 155, 197, 235, 457]\n",
    "corresponding_locations = ['st_101_Keilaniemi', 'st170_Kulosaari', 'st100_Kivihaan_tunneli',\n",
    "                         'vt1_Turku_Kupittaa', 'vt12_Tre_Petsamo']"
   ]
  },
  {
   "cell_type": "markdown",
   "metadata": {},
   "source": [
    "### The dataframe which will be exported as a csv"
   ]
  },
  {
   "cell_type": "code",
   "execution_count": 3,
   "metadata": {},
   "outputs": [],
   "source": [
    "# A dataframe sorted by countries\n",
    "\n",
    "dtypes_vayla_traffic = np.dtype([\n",
    "          ('Measure point', int), # For example 118 corresponds a measure point in Keilaniemi \n",
    "          ('Location', str),   # The location of the measure point\n",
    "          ('Date', np.datetime64), # The current date\n",
    "          ('Total traffic', float), # The total traffic to both directions of the road\n",
    "          ])\n",
    "\n",
    "data_vayla_traffic = np.empty(0, dtype=dtypes_vayla_traffic)\n",
    "df_vayla_traffic = pd.DataFrame(data_vayla_traffic)   "
   ]
  },
  {
   "cell_type": "markdown",
   "metadata": {},
   "source": [
    "## 2. Cleaning the data and adding it to a dataframe which will exported as a csv "
   ]
  },
  {
   "cell_type": "markdown",
   "metadata": {},
   "source": [
    "### Adding and cleaning Väylä's data to a dataframe\n",
    "\n",
    "\n",
    "- Väylä has divided its traffic data in folders based on months. Therefore we loop each of these folders in the next cell\n",
    "\n",
    "\n",
    "- One folder contains a csv-file of one specific measure point. Naturally, we loop each of these files as well.\n",
    "\n",
    "\n",
    "- In order to make the data cleaning easy and imported files smaller than original files, these original files have been preprocessed to csv-files \n",
    "    - First too small files (having no data) were deleted\n",
    "        - Command: find . -name \"*.xls\" -type 'f' -size -10k -delete\n",
    "    - All the xls-files were converted to csv-files\n",
    "        - Command: for f in *.xls; do ssconvert \"$f\" \"${f%.*}\".csv; done\n",
    "    - Delete all the xls-files from the folder\n",
    "        - Command: find . -name \"*.xls\" -type f -delete\n",
    "\n",
    "\n",
    "- The following cell will take a couple minutes"
   ]
  },
  {
   "cell_type": "code",
   "execution_count": null,
   "metadata": {},
   "outputs": [],
   "source": [
    "# Loop over each directory\n",
    "for i in range(len(directories)):\n",
    "\n",
    "    # Get the current directory\n",
    "    current_directory = directories[i]\n",
    "    \n",
    "    # And the corresponding month of the directory\n",
    "    current_month = corresponding_month[i]\n",
    "\n",
    "    for current_file in os.listdir('Data/Vayla_data/' + current_directory):\n",
    "    \n",
    "        # Read the current file and add it to a dataframe\n",
    "        df_current_month = pd.read_csv('Data/Vayla_data/' + current_directory + '/' + current_file)\n",
    "\n",
    "        # If the length is not 29, there has been not collected data for each hour\n",
    "        if df_current_month.shape[1] == 29:\n",
    "        \n",
    "            # Give column names in English\n",
    "            df_current_month.columns = ['Measure point', 'Location', 'Date', 'Direction code', 'Vehicle type', \n",
    "            '00-01', '01-02', '02-03', '03-04', '04-05', '05-06', '06-07', '07-08', '08-09', '09-10', '10-11', '11-12',\n",
    "            '12-13', '13-14', '14-15', '15-16', '16-17', '17-18', '18-19', '19-20', '20-21', '21-22', '22-23', '23-00']\n",
    "\n",
    "            # Spaces needs to be fixed to zeros before changing some column types to floats\n",
    "            df_current_month = df_current_month.replace(' ', '0')\n",
    "\n",
    "\n",
    "            # Make sure the column types are the correct ones\n",
    "            convert_dict = {\n",
    "                      'Measure point': int,  \n",
    "                      'Location': str, \n",
    "                      'Date': np.datetime64, \n",
    "                      'Direction code': float, \n",
    "                      'Vehicle type': str, \n",
    "                      '00-01': float, '01-02': float, '02-03': float, '03-04': float, '04-05': float, '05-06': float, \n",
    "                      '06-07': float, '07-08': float, '08-09': float, '09-10': float, '10-11': float, '11-12': float, \n",
    "                      '12-13': float, '13-14': float, '14-15': float, '15-16': float, '16-17': float, '17-18': float, \n",
    "                      '18-19': float, '19-20': float, '20-21': float, '21-22': float, '22-23': float, '23-00': float} \n",
    "            df_current_month = df_current_month.astype(convert_dict) \n",
    "\n",
    "\n",
    "\n",
    "            # Get the information what the current measure point and location is\n",
    "            current_measure_point = df_current_month['Measure point'].iloc[0]\n",
    "            current_location = df_current_month['Location'].iloc[0]\n",
    "\n",
    "            # Fix the wrong days (if the day and month needs to be swapped)\n",
    "            dates = df_current_month['Date'].tolist()\n",
    "            for j in range(len(dates)):\n",
    "                if dates[j].month != current_month:\n",
    "                    true_day = dates[j].month\n",
    "                    dates[j] = dates[j].replace(day=true_day, month=current_month)\n",
    "            # Update the dates to the dataframe        \n",
    "            df_current_month['Date'] = dates\n",
    "\n",
    "\n",
    "            # Current date runs in the while loop and starts from the first date\n",
    "            # last_date will tell when to stop looping\n",
    "            current_date = df_current_month['Date'].iloc[0]\n",
    "            last_date = df_current_month['Date'].iloc[-1]\n",
    "\n",
    "            while current_date <= last_date:\n",
    "\n",
    "                # Get the total traffic of all vehicles to both directions of a road during one day\n",
    "                current_total_traffic = df_current_month.loc[\n",
    "                                            (df_current_month['Date'] == current_date)].iloc[:,5:].sum(axis=1).sum(axis=0)\n",
    "\n",
    "                # Now we can update one measure points total traffic of one day to the final dataframe\n",
    "                df_new_row = pd.DataFrame({'Measure point':[current_measure_point], 'Location': [current_location], \n",
    "                            'Date': [current_date], 'Total traffic': [current_total_traffic] } )\n",
    "                df_vayla_traffic = pd.concat([df_vayla_traffic, df_new_row])    \n",
    "\n",
    "                # Update the running date\n",
    "                current_date = current_date + datetime.timedelta(1)\n",
    "\n",
    "            df_vayla_traffic\n",
    "            \n",
    "# Sort the dataframe\n",
    "df_vayla_traffic.sort_values(['Measure point', 'Date'])\n",
    "                      \n",
    "# Make the indexing to make more sense\n",
    "df_vayla_traffic.reset_index(drop=True, inplace=True)"
   ]
  },
  {
   "cell_type": "markdown",
   "metadata": {},
   "source": [
    "### The dataframe is now fully implemented"
   ]
  },
  {
   "cell_type": "code",
   "execution_count": null,
   "metadata": {},
   "outputs": [],
   "source": [
    "# Export the dataframe\n",
    "output_file = os.path.join('Fully_implemented_dataframes', 'df_vayla_traffic.csv')\n",
    "df_vayla_traffic.to_csv(output_file, index=False)\n",
    "\n",
    "df_vayla_traffic"
   ]
  },
  {
   "cell_type": "markdown",
   "metadata": {},
   "source": [
    "## 3. Plotting a few time series of relevant measure points"
   ]
  },
  {
   "cell_type": "code",
   "execution_count": null,
   "metadata": {},
   "outputs": [],
   "source": [
    "print('3 locations in Uusimaa, 1 in Turku and 1 in Tampere will be plotted next. ')\n",
    "print()\n",
    "print()\n",
    "\n",
    "\n",
    "# Date interval is for each measure point the same\n",
    "date_interval = df_vayla_traffic.loc[(df_vayla_traffic['Measure point'] == measure_points_plotted[0]), \n",
    "                    'Date'].tolist()\n",
    "\n",
    "# Loop over measure points to be plotted\n",
    "for i in range(len(measure_points_plotted)):\n",
    "    \n",
    "    # Current measure points and locations\n",
    "    current_measure_point = measure_points_plotted[i]\n",
    "    current_location = corresponding_locations[i]\n",
    "    print('\\033[1m' + 'Measure point: ' + str(current_measure_point) + ', Location: ' + current_location)\n",
    "\n",
    "    # Total traffic of the current measure point\n",
    "    current_total_traffic = df_vayla_traffic.loc[(df_vayla_traffic['Measure point'] == current_measure_point),\n",
    "                    'Total traffic'].tolist()\n",
    "    \n",
    "    # Define the figure\n",
    "    fig, host = plt.subplots(figsize=(26, 6))\n",
    "\n",
    "    # Plot the traffic, infected and death data\n",
    "    p1, = host.plot(date_interval, current_total_traffic, marker = 'o',\n",
    "                    linestyle='', color = \"black\", label=\"Total traffic ()\" )\n",
    "\n",
    "    # Define the text for y-axis\n",
    "    host.set_ylabel(\"Total traffic ()\")\n",
    "\n",
    "    # Make little spikes for different y-axis\n",
    "    host.tick_params(axis='y', colors=p1.get_color())\n",
    "    host.tick_params(axis='x')\n",
    "        \n",
    "    plt.show()"
   ]
  }
 ],
 "metadata": {
  "kernelspec": {
   "display_name": "Python 3",
   "language": "python",
   "name": "python3"
  },
  "language_info": {
   "codemirror_mode": {
    "name": "ipython",
    "version": 3
   },
   "file_extension": ".py",
   "mimetype": "text/x-python",
   "name": "python",
   "nbconvert_exporter": "python",
   "pygments_lexer": "ipython3",
   "version": "3.6.9"
  }
 },
 "nbformat": 4,
 "nbformat_minor": 4
}
